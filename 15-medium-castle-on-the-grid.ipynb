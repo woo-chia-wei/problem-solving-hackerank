{
 "cells": [
  {
   "cell_type": "markdown",
   "metadata": {},
   "source": [
    "# Not optimized solution!"
   ]
  },
  {
   "cell_type": "code",
   "execution_count": 1,
   "metadata": {},
   "outputs": [],
   "source": [
    "def minimumMoves(grid, startX, startY, goalX, goalY):\n",
    "    nrows = len(grid)\n",
    "    ncols = len(grid[0])\n",
    "    \n",
    "    visted_nodes = set()\n",
    "    to_visit_nodes = [(startX, startY)]\n",
    "    \n",
    "    forward_nodes = {}\n",
    "    backward_nodes = {}\n",
    "    node_distances = {\n",
    "        (startX, startY): 0\n",
    "    }\n",
    "    \n",
    "    def is_valid(x, y):\n",
    "        return 0 <= x < nrows and 0 <= y < ncols and grid[x][y] == '.'\n",
    "    \n",
    "    def get_possible_paths(node):\n",
    "        x, y = node\n",
    "        results = []\n",
    "        directions = ['left', 'right', 'up', 'down']\n",
    "        \n",
    "        for direction in directions:\n",
    "            x2, y2 = x , y\n",
    "            \n",
    "            if direction == 'left':\n",
    "                while is_valid(x2 - 1, y2): \n",
    "                    x2 -= 1\n",
    "            elif direction == 'right':\n",
    "                while is_valid(x2 + 1, y2): \n",
    "                    x2 += 1\n",
    "            elif direction == 'up':\n",
    "                while is_valid(x2, y2 - 1): \n",
    "                    y2 -= 1\n",
    "            elif direction == 'down':\n",
    "                while is_valid(x2, y2 + 1): \n",
    "                    y2 += 1\n",
    "\n",
    "            if (x2, y2) != (x, y) and (x2, y2) not in visted_nodes: \n",
    "                results.append((x2, y2))\n",
    "            \n",
    "        return results\n",
    "\n",
    "    while to_visit_nodes:\n",
    "        # Get first node\n",
    "        node = to_visit_nodes.pop(0)\n",
    "        \n",
    "        # Update visit nodes\n",
    "        visted_nodes.add(node)\n",
    "        \n",
    "        # Get possible paths\n",
    "        next_nodes = get_possible_paths(node)\n",
    "        to_visit_nodes = next_nodes + to_visit_nodes\n",
    "        \n",
    "        # Update forward nodes and backward nodes\n",
    "        if node not in forward_nodes:\n",
    "            forward_nodes[node] = []\n",
    "                \n",
    "        for next_node in next_nodes:\n",
    "            forward_nodes[node].append(next_node)\n",
    "            if next_node not in backward_nodes:\n",
    "                backward_nodes[next_node] = []\n",
    "            backward_nodes[next_node].append(node)\n",
    "        \n",
    "        # Update distances\n",
    "        for next_node in next_nodes:\n",
    "            if next_node not in node_distances:\n",
    "                node_distances[next_node] = 1 + node_distances[node]\n",
    "            else:\n",
    "                node_distances[next_node] = min(1 + node_distances[node], node_distances[next_node])\n",
    "    \n",
    "#     print('Forward.....')\n",
    "#     for k, v in forward_nodes.items():\n",
    "#         print(k, ':', v)\n",
    "    \n",
    "#     print('Distance...')\n",
    "#     for k, v in node_distances.items():\n",
    "#         print(k, ':', v)\n",
    "    \n",
    "    return node_distances[(goalX, goalY)]"
   ]
  },
  {
   "cell_type": "code",
   "execution_count": 2,
   "metadata": {},
   "outputs": [
    {
     "data": {
      "text/plain": [
       "2"
      ]
     },
     "execution_count": 2,
     "metadata": {},
     "output_type": "execute_result"
    }
   ],
   "source": [
    "grid= [\n",
    "    list('.....'),\n",
    "    list('.X.X.'),\n",
    "    list('...X.'),\n",
    "    list('XXXX.'),\n",
    "    list('XXXX.')\n",
    "]\n",
    "startX, startY, goalX, goalY = 0, 0, 4, 4\n",
    "\n",
    "minimumMoves(grid, startX, startY, goalX, goalY)"
   ]
  },
  {
   "cell_type": "code",
   "execution_count": 3,
   "metadata": {},
   "outputs": [
    {
     "data": {
      "text/plain": [
       "3"
      ]
     },
     "execution_count": 3,
     "metadata": {},
     "output_type": "execute_result"
    }
   ],
   "source": [
    "grid= [\n",
    "    list('.X.'),\n",
    "    list('.X.'),\n",
    "    list('...')\n",
    "]\n",
    "startX, startY, goalX, goalY = 0, 0 ,0, 2\n",
    "minimumMoves(grid, startX, startY, goalX, goalY)"
   ]
  },
  {
   "cell_type": "code",
   "execution_count": null,
   "metadata": {},
   "outputs": [],
   "source": []
  },
  {
   "cell_type": "code",
   "execution_count": null,
   "metadata": {},
   "outputs": [],
   "source": []
  },
  {
   "cell_type": "code",
   "execution_count": null,
   "metadata": {},
   "outputs": [],
   "source": []
  }
 ],
 "metadata": {
  "kernelspec": {
   "display_name": "Python 3",
   "language": "python",
   "name": "python3"
  },
  "language_info": {
   "codemirror_mode": {
    "name": "ipython",
    "version": 3
   },
   "file_extension": ".py",
   "mimetype": "text/x-python",
   "name": "python",
   "nbconvert_exporter": "python",
   "pygments_lexer": "ipython3",
   "version": "3.6.4"
  }
 },
 "nbformat": 4,
 "nbformat_minor": 2
}
