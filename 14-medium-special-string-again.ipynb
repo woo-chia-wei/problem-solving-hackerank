{
 "cells": [
  {
   "cell_type": "markdown",
   "metadata": {},
   "source": [
    "# Optimized Solution"
   ]
  },
  {
   "cell_type": "code",
   "execution_count": 1,
   "metadata": {},
   "outputs": [],
   "source": [
    "def condition1_count(n, s):\n",
    "    if s == '':\n",
    "        return 0\n",
    "    \n",
    "    ##########################\n",
    "    # Calculate the occurence\n",
    "    ##########################\n",
    "    freq = []\n",
    "    prev = None\n",
    "    count = 0\n",
    "    for current in s:\n",
    "        if current == prev:\n",
    "            count += 1\n",
    "        else:\n",
    "            if count > 0:\n",
    "                freq.append(count)\n",
    "            count = 1\n",
    "        prev = current\n",
    "    freq.append(count)\n",
    "    \n",
    "    #######################################\n",
    "    # If occurence = 3, for example aaa\n",
    "    # Possible substrings are\n",
    "    # a, a, a, aa, aa, aaa \n",
    "    ########################################\n",
    "    return int(sum(map(lambda n: n * (n + 1)/2, freq)))\n",
    "\n",
    "def condition2_count(n, s):\n",
    "    count = 0\n",
    "    length = n\n",
    "    \n",
    "    ########################################\n",
    "    # Scan new string by adding left, right\n",
    "    ########################################\n",
    "    for i in range(1, length - 1):\n",
    "        start = end = middle = i\n",
    "        c1 = s[middle]\n",
    "        c2 = None\n",
    "        \n",
    "        while True:\n",
    "            start -= 1\n",
    "            end += 1\n",
    "            \n",
    "            if start < 0 or end >= length:\n",
    "                break\n",
    "                \n",
    "            if c2 is None:\n",
    "                c2 = s[start]\n",
    "                \n",
    "            if s[start] == s[end] and \\\n",
    "               s[start] == c2 and \\\n",
    "               c1 != c2:\n",
    "                count += 1\n",
    "            else:\n",
    "                break\n",
    "        \n",
    "    return count\n",
    "\n",
    "def substrCount(n, s):\n",
    "    return condition1_count(n, s) + condition2_count(n, s)"
   ]
  },
  {
   "cell_type": "code",
   "execution_count": 2,
   "metadata": {},
   "outputs": [
    {
     "data": {
      "text/plain": [
       "7"
      ]
     },
     "execution_count": 2,
     "metadata": {},
     "output_type": "execute_result"
    }
   ],
   "source": [
    "substrCount(5, 'asasd')"
   ]
  },
  {
   "cell_type": "code",
   "execution_count": 3,
   "metadata": {},
   "outputs": [
    {
     "data": {
      "text/plain": [
       "10"
      ]
     },
     "execution_count": 3,
     "metadata": {},
     "output_type": "execute_result"
    }
   ],
   "source": [
    "substrCount(7, 'abcbaba')"
   ]
  },
  {
   "cell_type": "markdown",
   "metadata": {},
   "source": [
    "# Original Solution"
   ]
  },
  {
   "cell_type": "code",
   "execution_count": 4,
   "metadata": {},
   "outputs": [],
   "source": [
    "import enum \n",
    "\n",
    "class SpecialString(enum.Enum): \n",
    "    NO = 0\n",
    "    YES_ALL = 1\n",
    "    YES_ALL_EXCEPT_MIDDLE = 2\n",
    "\n",
    "class SpecialStringChecker:\n",
    "    def __init__(self):\n",
    "        self.kb = {\n",
    "            '': SpecialString.YES_ALL\n",
    "        }\n",
    "        \n",
    "    def check_fullstring(self, s):\n",
    "        count = 0\n",
    "        for i in range(len(s) + 1):\n",
    "            for j in range(i + 1, len(s) + 1):\n",
    "                count += self.check_substring(s[i: j]) != SpecialString.NO\n",
    "                \n",
    "                if self.check_substring(s[i: j]) != SpecialString.NO:\n",
    "                    print(s[i:j], self.check_substring(s[i: j]))\n",
    "                \n",
    "        return count\n",
    "        \n",
    "    def check_substring(self, s):\n",
    "        if s in self.kb:\n",
    "            return self.kb[s]\n",
    "        \n",
    "        s_without_last = s[:-1]\n",
    "        if s_without_last in self.kb:\n",
    "            if self.kb[s_without_last] == SpecialString.YES_ALL_EXCEPT_MIDDLE:\n",
    "                self.kb[s] = SpecialString.NO\n",
    "                return SpecialString.NO\n",
    "            elif self.kb[s_without_last] == SpecialString.YES_ALL:\n",
    "                if s[0] == s[-1]:\n",
    "                    self.kb[s] = SpecialString.YES_ALL\n",
    "                    return SpecialString.YES_ALL\n",
    "                else:\n",
    "                    self.kb[s] = SpecialString.NO\n",
    "                    return SpecialString.NO\n",
    "\n",
    "        i=0\n",
    "        j=len(s) - 1\n",
    "\n",
    "        while i < j:\n",
    "            if s[i] != s[j]:\n",
    "                self.kb[s] = SpecialString.NO\n",
    "                return SpecialString.NO\n",
    "            elif s[i] == s[j] and i == j:\n",
    "                if s[i] == s[0]:\n",
    "                    self.kb[s] = SpecialString.YES_ALL\n",
    "                    return SpecialString.YES_ALL\n",
    "                else:\n",
    "                    self.kb[s] = SpecialString.YES_ALL_EXCEPT_MIDDLE\n",
    "                    return SpecialString.YES_ALL_EXCEPT_MIDDLE\n",
    "            elif s[i] == s[j] and i < j:\n",
    "                if s[i] != s[0]:\n",
    "                    self.kb[s] = SpecialString.NO\n",
    "                    return SpecialString.NO\n",
    "                else:\n",
    "                    i += 1\n",
    "                    j -= 1\n",
    "                \n",
    "        self.kb[s] = SpecialString.YES_ALL\n",
    "        return SpecialString.YES_ALL"
   ]
  },
  {
   "cell_type": "code",
   "execution_count": 5,
   "metadata": {},
   "outputs": [
    {
     "name": "stdout",
     "output_type": "stream",
     "text": [
      "a SpecialString.YES_ALL\n",
      "asa SpecialString.YES_ALL\n",
      "s SpecialString.YES_ALL\n",
      "sas SpecialString.YES_ALL\n",
      "a SpecialString.YES_ALL\n",
      "s SpecialString.YES_ALL\n",
      "d SpecialString.YES_ALL\n"
     ]
    },
    {
     "data": {
      "text/plain": [
       "7"
      ]
     },
     "execution_count": 5,
     "metadata": {},
     "output_type": "execute_result"
    }
   ],
   "source": [
    "checker = SpecialStringChecker()\n",
    "checker.check_fullstring('asasd')"
   ]
  },
  {
   "cell_type": "code",
   "execution_count": 6,
   "metadata": {},
   "outputs": [
    {
     "name": "stdout",
     "output_type": "stream",
     "text": [
      "a SpecialString.YES_ALL\n",
      "b SpecialString.YES_ALL\n",
      "bcb SpecialString.YES_ALL\n",
      "c SpecialString.YES_ALL\n",
      "b SpecialString.YES_ALL\n",
      "bab SpecialString.YES_ALL\n",
      "a SpecialString.YES_ALL\n",
      "aba SpecialString.YES_ALL\n",
      "b SpecialString.YES_ALL\n",
      "a SpecialString.YES_ALL\n"
     ]
    },
    {
     "data": {
      "text/plain": [
       "10"
      ]
     },
     "execution_count": 6,
     "metadata": {},
     "output_type": "execute_result"
    }
   ],
   "source": [
    "checker = SpecialStringChecker()\n",
    "checker.check_fullstring('abcbaba')"
   ]
  },
  {
   "cell_type": "code",
   "execution_count": 7,
   "metadata": {},
   "outputs": [
    {
     "name": "stdout",
     "output_type": "stream",
     "text": [
      "a SpecialString.YES_ALL\n",
      "b SpecialString.YES_ALL\n",
      "bcb SpecialString.YES_ALL\n",
      "c SpecialString.YES_ALL\n",
      "b SpecialString.YES_ALL\n",
      "a SpecialString.YES_ALL\n"
     ]
    },
    {
     "data": {
      "text/plain": [
       "6"
      ]
     },
     "execution_count": 7,
     "metadata": {},
     "output_type": "execute_result"
    }
   ],
   "source": [
    "checker = SpecialStringChecker()\n",
    "checker.check_fullstring('abcba')"
   ]
  },
  {
   "cell_type": "code",
   "execution_count": null,
   "metadata": {},
   "outputs": [],
   "source": []
  },
  {
   "cell_type": "code",
   "execution_count": null,
   "metadata": {},
   "outputs": [],
   "source": []
  },
  {
   "cell_type": "code",
   "execution_count": null,
   "metadata": {},
   "outputs": [],
   "source": []
  },
  {
   "cell_type": "code",
   "execution_count": null,
   "metadata": {},
   "outputs": [],
   "source": []
  }
 ],
 "metadata": {
  "kernelspec": {
   "display_name": "Python 3",
   "language": "python",
   "name": "python3"
  },
  "language_info": {
   "codemirror_mode": {
    "name": "ipython",
    "version": 3
   },
   "file_extension": ".py",
   "mimetype": "text/x-python",
   "name": "python",
   "nbconvert_exporter": "python",
   "pygments_lexer": "ipython3",
   "version": "3.6.4"
  }
 },
 "nbformat": 4,
 "nbformat_minor": 2
}
