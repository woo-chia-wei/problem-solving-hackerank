{
 "cells": [
  {
   "cell_type": "code",
   "execution_count": 1,
   "metadata": {},
   "outputs": [],
   "source": [
    "def minimumSwaps(arr):\n",
    "    myArr = list(arr)\n",
    "    non_fixed_points = {v: pos+1 for pos, v in enumerate(myArr) if v != pos + 1}\n",
    "    \n",
    "    count = 0\n",
    "    while len(non_fixed_points) > 0:\n",
    "        # Start from first element\n",
    "        # Get position and value\n",
    "        val1, pos1 = non_fixed_points.popitem()\n",
    "\n",
    "        # Swapping\n",
    "        while True:\n",
    "            # Search for swap target\n",
    "            # Get position and value\n",
    "            val2, pos2 = myArr[val1 - 1], val1\n",
    "            \n",
    "            myArr[pos2 - 1] = val1 # val1 is at right place\n",
    "            myArr[pos1 - 1] = val2 # val2 is at new place (could be right or wrong)\n",
    "            count += 1\n",
    "            \n",
    "            if pos1 == val2: # end of search\n",
    "                del non_fixed_points[val2]\n",
    "                break\n",
    "\n",
    "            # Decide next element to perform same swapping action\n",
    "            pos1, val1 = pos1, val2\n",
    "            del non_fixed_points[val1]\n",
    "    \n",
    "    return count"
   ]
  },
  {
   "cell_type": "code",
   "execution_count": 2,
   "metadata": {},
   "outputs": [
    {
     "data": {
      "text/plain": [
       "3"
      ]
     },
     "execution_count": 2,
     "metadata": {},
     "output_type": "execute_result"
    }
   ],
   "source": [
    "minimumSwaps([1, 3, 5, 2, 4, 6, 7])"
   ]
  },
  {
   "cell_type": "code",
   "execution_count": 3,
   "metadata": {},
   "outputs": [
    {
     "data": {
      "text/plain": [
       "3"
      ]
     },
     "execution_count": 3,
     "metadata": {},
     "output_type": "execute_result"
    }
   ],
   "source": [
    "minimumSwaps([4, 3, 1, 2])"
   ]
  },
  {
   "cell_type": "code",
   "execution_count": 4,
   "metadata": {},
   "outputs": [
    {
     "data": {
      "text/plain": [
       "5"
      ]
     },
     "execution_count": 4,
     "metadata": {},
     "output_type": "execute_result"
    }
   ],
   "source": [
    "minimumSwaps([7, 1, 3, 2, 4, 5, 6])"
   ]
  },
  {
   "cell_type": "code",
   "execution_count": null,
   "metadata": {},
   "outputs": [],
   "source": []
  }
 ],
 "metadata": {
  "kernelspec": {
   "display_name": "Python 3",
   "language": "python",
   "name": "python3"
  },
  "language_info": {
   "codemirror_mode": {
    "name": "ipython",
    "version": 3
   },
   "file_extension": ".py",
   "mimetype": "text/x-python",
   "name": "python",
   "nbconvert_exporter": "python",
   "pygments_lexer": "ipython3",
   "version": "3.6.4"
  }
 },
 "nbformat": 4,
 "nbformat_minor": 2
}
