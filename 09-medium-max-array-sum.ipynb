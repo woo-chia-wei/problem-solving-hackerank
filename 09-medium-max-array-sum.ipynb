{
 "cells": [
  {
   "cell_type": "code",
   "execution_count": 1,
   "metadata": {},
   "outputs": [],
   "source": [
    "def maxSubsetSum(arr):\n",
    "    n = len(arr)\n",
    "    solutions = {} # solutions[n] gives solution when we just consider first n integers\n",
    "    solutions[1] = arr[0]\n",
    "    solutions[2] = max(arr[:2])\n",
    "    \n",
    "    for i in range(3, n + 1):\n",
    "        # Two cases\n",
    "        # The current element is not taken\n",
    "        # The current element is taken\n",
    "        if arr[i-1] >= 0:\n",
    "            solutions[i] = max(solutions[i-1], \\\n",
    "                              solutions[i-2] + arr[i-1],\n",
    "                              arr[i-1])\n",
    "        else:\n",
    "            solutions[i] = solutions[i-1]\n",
    "    \n",
    "    return solutions"
   ]
  },
  {
   "cell_type": "code",
   "execution_count": 2,
   "metadata": {},
   "outputs": [
    {
     "data": {
      "text/plain": [
       "{1: 3, 2: 7, 3: 7, 4: 13, 5: 13}"
      ]
     },
     "execution_count": 2,
     "metadata": {},
     "output_type": "execute_result"
    }
   ],
   "source": [
    "maxSubsetSum([3, 7, 4, 6, 5])"
   ]
  },
  {
   "cell_type": "code",
   "execution_count": 3,
   "metadata": {},
   "outputs": [
    {
     "data": {
      "text/plain": [
       "{1: 2, 2: 2, 3: 7, 4: 10, 5: 11}"
      ]
     },
     "execution_count": 3,
     "metadata": {},
     "output_type": "execute_result"
    }
   ],
   "source": [
    "maxSubsetSum([2, 1, 5, 8, 4])"
   ]
  },
  {
   "cell_type": "code",
   "execution_count": 4,
   "metadata": {},
   "outputs": [
    {
     "data": {
      "text/plain": [
       "{1: 3, 2: 5, 3: 5, 4: 13, 5: 15}"
      ]
     },
     "execution_count": 4,
     "metadata": {},
     "output_type": "execute_result"
    }
   ],
   "source": [
    "maxSubsetSum([3, 5, -7, 8, 10])"
   ]
  },
  {
   "cell_type": "code",
   "execution_count": null,
   "metadata": {},
   "outputs": [],
   "source": []
  }
 ],
 "metadata": {
  "kernelspec": {
   "display_name": "Python 3",
   "language": "python",
   "name": "python3"
  },
  "language_info": {
   "codemirror_mode": {
    "name": "ipython",
    "version": 3
   },
   "file_extension": ".py",
   "mimetype": "text/x-python",
   "name": "python",
   "nbconvert_exporter": "python",
   "pygments_lexer": "ipython3",
   "version": "3.6.4"
  }
 },
 "nbformat": 4,
 "nbformat_minor": 2
}
