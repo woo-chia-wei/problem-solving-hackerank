{
 "cells": [
  {
   "cell_type": "code",
   "execution_count": 1,
   "metadata": {},
   "outputs": [],
   "source": [
    "def luckBalance(k, contest):\n",
    "    important_lucks = []\n",
    "    unimportant_lucks = []\n",
    "    \n",
    "    for luck, importance in contests:\n",
    "        if importance == 1:\n",
    "            important_lucks.append(luck)\n",
    "        else:\n",
    "            unimportant_lucks.append(luck)\n",
    "            \n",
    "    important_lucks.sort(reverse=True)\n",
    "    \n",
    "    # Greedy part\n",
    "    return sum(important_lucks[:k]) - sum(important_lucks[k:]) + \\\n",
    "           sum(unimportant_lucks)"
   ]
  },
  {
   "cell_type": "code",
   "execution_count": 2,
   "metadata": {},
   "outputs": [
    {
     "data": {
      "text/plain": [
       "10"
      ]
     },
     "execution_count": 2,
     "metadata": {},
     "output_type": "execute_result"
    }
   ],
   "source": [
    "k = 2\n",
    "contests = [\n",
    "    [5, 1],\n",
    "    [1, 1],\n",
    "    [4, 0]\n",
    "]\n",
    "luckBalance(k, contests)"
   ]
  },
  {
   "cell_type": "code",
   "execution_count": 3,
   "metadata": {},
   "outputs": [
    {
     "data": {
      "text/plain": [
       "29"
      ]
     },
     "execution_count": 3,
     "metadata": {},
     "output_type": "execute_result"
    }
   ],
   "source": [
    "k = 3\n",
    "contests = [\n",
    "    [5, 1],\n",
    "    [2, 1],\n",
    "    [1, 1],\n",
    "    [8, 1],\n",
    "    [10, 0],\n",
    "    [5, 0]\n",
    "]\n",
    "luckBalance(k, contests)"
   ]
  },
  {
   "cell_type": "code",
   "execution_count": null,
   "metadata": {},
   "outputs": [],
   "source": []
  },
  {
   "cell_type": "code",
   "execution_count": null,
   "metadata": {},
   "outputs": [],
   "source": []
  }
 ],
 "metadata": {
  "kernelspec": {
   "display_name": "Python 3",
   "language": "python",
   "name": "python3"
  },
  "language_info": {
   "codemirror_mode": {
    "name": "ipython",
    "version": 3
   },
   "file_extension": ".py",
   "mimetype": "text/x-python",
   "name": "python",
   "nbconvert_exporter": "python",
   "pygments_lexer": "ipython3",
   "version": "3.6.4"
  }
 },
 "nbformat": 4,
 "nbformat_minor": 2
}
