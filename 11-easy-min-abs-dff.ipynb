{
 "cells": [
  {
   "cell_type": "markdown",
   "metadata": {},
   "source": [
    "# Improved Solution"
   ]
  },
  {
   "cell_type": "code",
   "execution_count": 1,
   "metadata": {},
   "outputs": [],
   "source": [
    "def minimumAbsoluteDifference(arr):\n",
    "    numbers = list(set(arr))\n",
    "    numbers.sort()\n",
    "    if len(numbers) < len(arr):\n",
    "        return 0 # duplicate happens\n",
    "    \n",
    "    min_dist = None\n",
    "    for n in range(2, len(numbers)):\n",
    "        dist = numbers[n] - numbers[n-1]\n",
    "        if min_dist is None:\n",
    "            min_dist = dist\n",
    "        else:\n",
    "            if min_dist > dist:\n",
    "                min_dist = dist\n",
    "    \n",
    "    return min_dist"
   ]
  },
  {
   "cell_type": "code",
   "execution_count": 2,
   "metadata": {},
   "outputs": [
    {
     "data": {
      "text/plain": [
       "1"
      ]
     },
     "execution_count": 2,
     "metadata": {},
     "output_type": "execute_result"
    }
   ],
   "source": [
    "arr = [-59, -36, -13, 1, -53, -92, -2, -96, -54, 75]\n",
    "minimumAbsoluteDifference(arr)"
   ]
  },
  {
   "cell_type": "code",
   "execution_count": 3,
   "metadata": {},
   "outputs": [
    {
     "data": {
      "text/plain": [
       "3"
      ]
     },
     "execution_count": 3,
     "metadata": {},
     "output_type": "execute_result"
    }
   ],
   "source": [
    "arr = [1, -3, 71, 68, 17]\n",
    "minimumAbsoluteDifference(arr)"
   ]
  },
  {
   "cell_type": "markdown",
   "metadata": {},
   "source": [
    "# Original Solution"
   ]
  },
  {
   "cell_type": "code",
   "execution_count": 4,
   "metadata": {},
   "outputs": [],
   "source": [
    "def minimumAbsoluteDifference(arr):\n",
    "    total = len(arr)\n",
    "    result = {} #result[n] = min abs diff for first n items\n",
    "    result[2] = abs(arr[0] - arr[1])\n",
    "    \n",
    "    for n in range(3, total + 1): # take first n items\n",
    "        result[n] = min(map(lambda x: abs(x-arr[n-1]), arr[:n-1]))\n",
    "        result[n] = min(result[n-1], result[n])\n",
    "    \n",
    "    return result[total]      "
   ]
  },
  {
   "cell_type": "code",
   "execution_count": 5,
   "metadata": {},
   "outputs": [
    {
     "data": {
      "text/plain": [
       "1"
      ]
     },
     "execution_count": 5,
     "metadata": {},
     "output_type": "execute_result"
    }
   ],
   "source": [
    "arr = [-59, -36, -13, 1, -53, -92, -2, -96, -54, 75]\n",
    "minimumAbsoluteDifference(arr)"
   ]
  },
  {
   "cell_type": "code",
   "execution_count": 6,
   "metadata": {},
   "outputs": [
    {
     "data": {
      "text/plain": [
       "3"
      ]
     },
     "execution_count": 6,
     "metadata": {},
     "output_type": "execute_result"
    }
   ],
   "source": [
    "arr = [1, -3, 71, 68, 17]\n",
    "minimumAbsoluteDifference(arr)"
   ]
  },
  {
   "cell_type": "code",
   "execution_count": null,
   "metadata": {},
   "outputs": [],
   "source": []
  }
 ],
 "metadata": {
  "kernelspec": {
   "display_name": "Python 3",
   "language": "python",
   "name": "python3"
  },
  "language_info": {
   "codemirror_mode": {
    "name": "ipython",
    "version": 3
   },
   "file_extension": ".py",
   "mimetype": "text/x-python",
   "name": "python",
   "nbconvert_exporter": "python",
   "pygments_lexer": "ipython3",
   "version": "3.6.4"
  }
 },
 "nbformat": 4,
 "nbformat_minor": 2
}
