{
 "cells": [
  {
   "cell_type": "markdown",
   "metadata": {},
   "source": [
    "# Pending to provide optimized solution, failed because of time limit\n",
    "Score 35/60"
   ]
  },
  {
   "cell_type": "code",
   "execution_count": 1,
   "metadata": {},
   "outputs": [],
   "source": [
    "import numpy as np"
   ]
  },
  {
   "cell_type": "markdown",
   "metadata": {},
   "source": [
    "# Solution that collects all strings"
   ]
  },
  {
   "cell_type": "code",
   "execution_count": 2,
   "metadata": {},
   "outputs": [],
   "source": [
    "class MaxCommon():\n",
    "    def __init__(self, a, b):\n",
    "        self.solutions = set()\n",
    "        self.solve(a, b)\n",
    "        \n",
    "    def solve(self, a, b, prefix=''):\n",
    "        if (a == '' or b == ''):\n",
    "            if prefix != '':\n",
    "                self.solutions.add(prefix)\n",
    "            return\n",
    "        \n",
    "        if a[0] == b[0]:\n",
    "            self.solve(a[1:], b[1:], prefix + a[0])\n",
    "        else:\n",
    "            self.solve(a[1:], b, prefix)\n",
    "            self.solve(a, b[1:], prefix)"
   ]
  },
  {
   "cell_type": "code",
   "execution_count": 3,
   "metadata": {},
   "outputs": [
    {
     "data": {
      "text/plain": [
       "{'A', 'H', 'HA', 'N', 'NA', 'NHA'}"
      ]
     },
     "execution_count": 3,
     "metadata": {},
     "output_type": "execute_result"
    }
   ],
   "source": [
    "a = 'SHINCHAN'\n",
    "b = 'NOHARAAA'\n",
    "\n",
    "t = MaxCommon(a, b)\n",
    "t.solutions"
   ]
  },
  {
   "cell_type": "code",
   "execution_count": 4,
   "metadata": {},
   "outputs": [
    {
     "data": {
      "text/plain": [
       "{'A', 'B', 'BD', 'D', 'F'}"
      ]
     },
     "execution_count": 4,
     "metadata": {},
     "output_type": "execute_result"
    }
   ],
   "source": [
    "a = 'ABCDEF'\n",
    "b = 'FBDAMN'\n",
    "\n",
    "t = MaxCommon(a, b)\n",
    "t.solutions"
   ]
  },
  {
   "cell_type": "markdown",
   "metadata": {},
   "source": [
    "# Solution that keep track of just optimal string"
   ]
  },
  {
   "cell_type": "code",
   "execution_count": 5,
   "metadata": {},
   "outputs": [],
   "source": [
    "class MaxCommon():\n",
    "    def __init__(self):\n",
    "        self.best_length = 0\n",
    "        \n",
    "    def solve(self, a, b):\n",
    "        self.search(a, b, '', max(len(a), len(b)))\n",
    "        return self.best_length\n",
    "        \n",
    "    def search(self, a, b, prefix, max_inputs_length):\n",
    "        current_length = len(prefix)\n",
    "        if self.best_length > current_length + max_inputs_length or \\\n",
    "           a == '' or b == '':\n",
    "            if self.best_length < current_length:\n",
    "                self.best_length = current_length\n",
    "            return\n",
    "        \n",
    "        if a[0] == b[0]:\n",
    "            self.search(a[1:], b[1:], prefix + a[0], max_inputs_length - 1)\n",
    "        else:\n",
    "            self.search(a[1:], b, prefix, max_inputs_length - 1 if len(a) > len(b) else max_inputs_length)\n",
    "            self.search(a, b[1:], prefix, max_inputs_length - 1 if len(b) > len(a) else max_inputs_length)"
   ]
  },
  {
   "cell_type": "code",
   "execution_count": 6,
   "metadata": {},
   "outputs": [
    {
     "data": {
      "text/plain": [
       "3"
      ]
     },
     "execution_count": 6,
     "metadata": {},
     "output_type": "execute_result"
    }
   ],
   "source": [
    "a = 'SHINCHAN'\n",
    "b = 'NOHARAAA'\n",
    "\n",
    "t = MaxCommon()\n",
    "t.solve(a, b)"
   ]
  },
  {
   "cell_type": "code",
   "execution_count": 7,
   "metadata": {},
   "outputs": [
    {
     "data": {
      "text/plain": [
       "2"
      ]
     },
     "execution_count": 7,
     "metadata": {},
     "output_type": "execute_result"
    }
   ],
   "source": [
    "a = 'ABCDEF'\n",
    "b = 'FBDAMN'\n",
    "\n",
    "t = MaxCommon()\n",
    "t.solve(a, b)"
   ]
  },
  {
   "cell_type": "markdown",
   "metadata": {},
   "source": [
    "# Dynamic Programming Approach"
   ]
  },
  {
   "cell_type": "code",
   "execution_count": 8,
   "metadata": {},
   "outputs": [],
   "source": [
    "def common_child(a, b):\n",
    "    nrows = len(a) + 1\n",
    "    ncols = len(b) + 1\n",
    "\n",
    "    for i in range(nrows):\n",
    "        if i == 0:\n",
    "            current = [0] * ncols\n",
    "        else:\n",
    "            current[0] = 0\n",
    "            for j in range(1, ncols):\n",
    "                if a[i - 1] == b[j - 1]:\n",
    "                    current[j] = prev[j - 1] + 1\n",
    "                else:\n",
    "                    current[j] = max(prev[j], current[j - 1])\n",
    "        prev = current\n",
    "        current = [0] * ncols\n",
    "\n",
    "    return(prev[-1])"
   ]
  },
  {
   "cell_type": "code",
   "execution_count": 9,
   "metadata": {},
   "outputs": [
    {
     "data": {
      "text/plain": [
       "3"
      ]
     },
     "execution_count": 9,
     "metadata": {},
     "output_type": "execute_result"
    }
   ],
   "source": [
    "a = 'SHINCHAN'\n",
    "b = 'NOHARAAA'\n",
    "common_child(a, b)"
   ]
  },
  {
   "cell_type": "code",
   "execution_count": 10,
   "metadata": {},
   "outputs": [
    {
     "data": {
      "text/plain": [
       "15"
      ]
     },
     "execution_count": 10,
     "metadata": {},
     "output_type": "execute_result"
    }
   ],
   "source": [
    "a = 'WEWOUCUIDGCGTRMEZEPXZFEJWISRSBBSYXAYDFEJJDLEBVHHKS'\n",
    "b = 'FDAGCXGKCTKWNECHMRXZWMLRYUCOCZHJRRJBOAJOQJZZVUYXIC'\n",
    "common_child(a, b)"
   ]
  },
  {
   "cell_type": "code",
   "execution_count": null,
   "metadata": {},
   "outputs": [],
   "source": []
  },
  {
   "cell_type": "code",
   "execution_count": null,
   "metadata": {},
   "outputs": [],
   "source": []
  }
 ],
 "metadata": {
  "kernelspec": {
   "display_name": "Python 3",
   "language": "python",
   "name": "python3"
  },
  "language_info": {
   "codemirror_mode": {
    "name": "ipython",
    "version": 3
   },
   "file_extension": ".py",
   "mimetype": "text/x-python",
   "name": "python",
   "nbconvert_exporter": "python",
   "pygments_lexer": "ipython3",
   "version": "3.6.4"
  }
 },
 "nbformat": 4,
 "nbformat_minor": 2
}
