{
 "cells": [
  {
   "cell_type": "code",
   "execution_count": 1,
   "metadata": {},
   "outputs": [],
   "source": [
    "def surfaceArea(A):\n",
    "    height = len(A)\n",
    "    width = len(A[0])\n",
    "    \n",
    "    def valid_range(i, j):\n",
    "        return 0 <= j < width and 0 <= i < height\n",
    "    \n",
    "    bottom_area = height * width\n",
    "    top_area = height * width\n",
    "    \n",
    "    side_area = sum(A[0]) + sum(A[-1]) + \\\n",
    "                sum(map(lambda x: x[0], A)) + \\\n",
    "                sum(map(lambda x: x[-1], A))\n",
    "    \n",
    "    innerwall_area = 0\n",
    "    for i in range(height):\n",
    "        for j in range(width):\n",
    "            \n",
    "            surrounding_numbers = []\n",
    "            if valid_range(i + 1, j): surrounding_numbers.append(A[i + 1][j])\n",
    "            if valid_range(i - 1, j): surrounding_numbers.append(A[i - 1][j])\n",
    "            if valid_range(i, j + 1): surrounding_numbers.append(A[i][j + 1])\n",
    "            if valid_range(i, j - 1): surrounding_numbers.append(A[i][j - 1])\n",
    "\n",
    "            current_number = A[i][j]\n",
    "            smaller_numbers = filter(lambda x: current_number < x, surrounding_numbers)\n",
    "            wall_numbers = map(lambda x: x - current_number, smaller_numbers)\n",
    "\n",
    "            innerwall_area += sum(list(wall_numbers))\n",
    "    \n",
    "    return bottom_area + top_area + side_area + innerwall_area"
   ]
  },
  {
   "cell_type": "code",
   "execution_count": 2,
   "metadata": {},
   "outputs": [
    {
     "data": {
      "text/plain": [
       "60"
      ]
     },
     "execution_count": 2,
     "metadata": {},
     "output_type": "execute_result"
    }
   ],
   "source": [
    "A = [[1, 3, 4],\n",
    "     [2, 2, 3],\n",
    "     [1, 2, 4]]\n",
    "\n",
    "surfaceArea(A)"
   ]
  },
  {
   "cell_type": "code",
   "execution_count": 3,
   "metadata": {},
   "outputs": [
    {
     "data": {
      "text/plain": [
       "1482"
      ]
     },
     "execution_count": 3,
     "metadata": {},
     "output_type": "execute_result"
    }
   ],
   "source": [
    "A = [[51],\n",
    "     [32],\n",
    "     [28],\n",
    "     [49],\n",
    "     [28],\n",
    "     [21],\n",
    "     [98],\n",
    "     [56],\n",
    "     [99],\n",
    "     [77]]\n",
    "\n",
    "surfaceArea(A)"
   ]
  },
  {
   "cell_type": "code",
   "execution_count": null,
   "metadata": {},
   "outputs": [],
   "source": []
  },
  {
   "cell_type": "code",
   "execution_count": null,
   "metadata": {},
   "outputs": [],
   "source": []
  },
  {
   "cell_type": "code",
   "execution_count": null,
   "metadata": {},
   "outputs": [],
   "source": []
  },
  {
   "cell_type": "code",
   "execution_count": null,
   "metadata": {},
   "outputs": [],
   "source": []
  },
  {
   "cell_type": "code",
   "execution_count": null,
   "metadata": {},
   "outputs": [],
   "source": []
  }
 ],
 "metadata": {
  "kernelspec": {
   "display_name": "Python 3",
   "language": "python",
   "name": "python3"
  },
  "language_info": {
   "codemirror_mode": {
    "name": "ipython",
    "version": 3
   },
   "file_extension": ".py",
   "mimetype": "text/x-python",
   "name": "python",
   "nbconvert_exporter": "python",
   "pygments_lexer": "ipython3",
   "version": "3.6.4"
  }
 },
 "nbformat": 4,
 "nbformat_minor": 2
}
