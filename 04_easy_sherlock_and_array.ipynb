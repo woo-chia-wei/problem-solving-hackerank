{
 "cells": [
  {
   "cell_type": "code",
   "execution_count": 1,
   "metadata": {},
   "outputs": [],
   "source": [
    "def balancedSums(numbers):\n",
    "    cumsum = []\n",
    "    for index, item in enumerate(numbers):\n",
    "        if index >= 1:\n",
    "            cumsum.append(item + cumsum[index - 1])\n",
    "        else:\n",
    "            cumsum.append(item)\n",
    "    \n",
    "    total = cumsum[-1]\n",
    "\n",
    "    for index, item in enumerate(numbers):\n",
    "        if item == total:\n",
    "            return \"YES\"\n",
    "        \n",
    "        left = cumsum[index - 1]\n",
    "        current = numbers[index]\n",
    "\n",
    "        if 2 * left == total - current:\n",
    "            return \"YES\"\n",
    "\n",
    "    return \"NO\""
   ]
  },
  {
   "cell_type": "code",
   "execution_count": 2,
   "metadata": {},
   "outputs": [
    {
     "data": {
      "text/plain": [
       "'YES'"
      ]
     },
     "execution_count": 2,
     "metadata": {},
     "output_type": "execute_result"
    }
   ],
   "source": [
    "numbers = [1,3,2,4]\n",
    "\n",
    "balancedSums(numbers)"
   ]
  },
  {
   "cell_type": "code",
   "execution_count": null,
   "metadata": {},
   "outputs": [],
   "source": []
  },
  {
   "cell_type": "code",
   "execution_count": null,
   "metadata": {},
   "outputs": [],
   "source": []
  }
 ],
 "metadata": {
  "kernelspec": {
   "display_name": "Python 3",
   "language": "python",
   "name": "python3"
  },
  "language_info": {
   "codemirror_mode": {
    "name": "ipython",
    "version": 3
   },
   "file_extension": ".py",
   "mimetype": "text/x-python",
   "name": "python",
   "nbconvert_exporter": "python",
   "pygments_lexer": "ipython3",
   "version": "3.6.4"
  }
 },
 "nbformat": 4,
 "nbformat_minor": 2
}
