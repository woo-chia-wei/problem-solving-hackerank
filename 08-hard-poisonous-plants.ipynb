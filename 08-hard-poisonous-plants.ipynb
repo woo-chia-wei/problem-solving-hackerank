{
 "cells": [
  {
   "cell_type": "markdown",
   "metadata": {},
   "source": [
    "# Improved Solution"
   ]
  },
  {
   "cell_type": "code",
   "execution_count": 1,
   "metadata": {},
   "outputs": [],
   "source": [
    "def poisonousPlants(p):\n",
    "    n_days = 0\n",
    "    removed_items = set()\n",
    "    \n",
    "    problems = []\n",
    "    for i in range(1, len(p)):\n",
    "        if p[i - 1] < p[i]:\n",
    "            problems.append((i-1, i))\n",
    "            removed_items.add(i)\n",
    "            \n",
    "    while problems:\n",
    "        new_problems = []\n",
    "        for problem in problems:\n",
    "            i, j = problem\n",
    "            j= j + 1\n",
    "\n",
    "            while j <= len(p) - 1 and j in removed_items:\n",
    "                j = j + 1\n",
    "\n",
    "            if j <= len(p) - 1 and p[i] < p[j]:\n",
    "                new_problems.append((i, j))\n",
    "                removed_items.add(j)\n",
    "\n",
    "        problems = new_problems\n",
    "        n_days += 1\n",
    "\n",
    "    return n_days"
   ]
  },
  {
   "cell_type": "markdown",
   "metadata": {},
   "source": [
    "<b><i>Scenario:  </i></b>  \n",
    "Day 0: [4, 3, 7, 5, 6, 4, 2]  \n",
    "Day 1: [4, 3, 5, 4, 2]  \n",
    "Day 2: [4, 3, 4, 2]  \n",
    "Day 3: [4, 3, 2]  "
   ]
  },
  {
   "cell_type": "code",
   "execution_count": 2,
   "metadata": {},
   "outputs": [
    {
     "data": {
      "text/plain": [
       "3"
      ]
     },
     "execution_count": 2,
     "metadata": {},
     "output_type": "execute_result"
    }
   ],
   "source": [
    "poisonousPlants([4, 3, 7, 5, 6, 4, 2])"
   ]
  },
  {
   "cell_type": "markdown",
   "metadata": {},
   "source": [
    "<b><i>Scenario:  </i></b>  \n",
    "Day 0: [6, 5, 8, 4, 7, 10, 9]  \n",
    "Day 1: [6, 5, 4, 9]  \n",
    "Day 2: [6, 5, 4]"
   ]
  },
  {
   "cell_type": "code",
   "execution_count": 3,
   "metadata": {
    "scrolled": true
   },
   "outputs": [
    {
     "data": {
      "text/plain": [
       "2"
      ]
     },
     "execution_count": 3,
     "metadata": {},
     "output_type": "execute_result"
    }
   ],
   "source": [
    "poisonousPlants([6, 5, 8, 4, 7, 10, 9])"
   ]
  },
  {
   "cell_type": "markdown",
   "metadata": {},
   "source": [
    "# Original Solution\n",
    "Some scenarios failed due to time limit"
   ]
  },
  {
   "cell_type": "code",
   "execution_count": 4,
   "metadata": {},
   "outputs": [],
   "source": [
    "def poisonousPlants(p):\n",
    "    items = list(p)\n",
    "    n_days = 0\n",
    "\n",
    "    while True:\n",
    "        items2 = [items[0]]\n",
    "        for i in range(1, len(items)):\n",
    "            if items[i - 1] >= items[i]:\n",
    "                items2.append(items[i])\n",
    "\n",
    "        if len(items2) != len(items):\n",
    "            n_days += 1\n",
    "            items = items2\n",
    "        else:\n",
    "            break\n",
    "\n",
    "    return n_days"
   ]
  },
  {
   "cell_type": "markdown",
   "metadata": {},
   "source": [
    "<b><i>Scenario:  </i></b>  \n",
    "Day 0: [4, 3, 7, 5, 6, 4, 2]  \n",
    "Day 1: [4, 3, 5, 4, 2]  \n",
    "Day 2: [4, 3, 4, 2]  \n",
    "Day 3: [4, 3, 2]  "
   ]
  },
  {
   "cell_type": "code",
   "execution_count": 5,
   "metadata": {},
   "outputs": [
    {
     "data": {
      "text/plain": [
       "3"
      ]
     },
     "execution_count": 5,
     "metadata": {},
     "output_type": "execute_result"
    }
   ],
   "source": [
    "poisonousPlants([4, 3, 7, 5, 6, 4, 2])"
   ]
  },
  {
   "cell_type": "markdown",
   "metadata": {},
   "source": [
    "<b><i>Scenario:  </i></b>  \n",
    "Day 0: [6, 5, 8, 4, 7, 10, 9]  \n",
    "Day 1: [6, 5, 4, 9]  \n",
    "Day 2: [6, 5, 4]"
   ]
  },
  {
   "cell_type": "code",
   "execution_count": 6,
   "metadata": {
    "scrolled": true
   },
   "outputs": [
    {
     "data": {
      "text/plain": [
       "2"
      ]
     },
     "execution_count": 6,
     "metadata": {},
     "output_type": "execute_result"
    }
   ],
   "source": [
    "poisonousPlants([6, 5, 8, 4, 7, 10, 9])"
   ]
  },
  {
   "cell_type": "code",
   "execution_count": null,
   "metadata": {},
   "outputs": [],
   "source": []
  },
  {
   "cell_type": "code",
   "execution_count": null,
   "metadata": {},
   "outputs": [],
   "source": []
  }
 ],
 "metadata": {
  "kernelspec": {
   "display_name": "Python 3",
   "language": "python",
   "name": "python3"
  },
  "language_info": {
   "codemirror_mode": {
    "name": "ipython",
    "version": 3
   },
   "file_extension": ".py",
   "mimetype": "text/x-python",
   "name": "python",
   "nbconvert_exporter": "python",
   "pygments_lexer": "ipython3",
   "version": "3.6.4"
  }
 },
 "nbformat": 4,
 "nbformat_minor": 2
}
