{
 "cells": [
  {
   "cell_type": "markdown",
   "metadata": {},
   "source": [
    "# Original Solution\n",
    "<span style=\"color:red\">Failed under time limit</span>"
   ]
  },
  {
   "cell_type": "code",
   "execution_count": 1,
   "metadata": {},
   "outputs": [],
   "source": [
    "def gen_strange_counter():\n",
    "    max_count = 3\n",
    "    counter = 3\n",
    "    \n",
    "    while True:\n",
    "        yield counter\n",
    "        counter -= 1\n",
    "        \n",
    "        if counter == 0:\n",
    "            max_count *= 2\n",
    "            counter = max_count\n",
    "\n",
    "def iteration_to_strange_counter(n):\n",
    "    g = gen_strange_counter()\n",
    "    for i in range(n - 1):\n",
    "        next(g)\n",
    "    return next(g)"
   ]
  },
  {
   "cell_type": "code",
   "execution_count": 2,
   "metadata": {},
   "outputs": [
    {
     "data": {
      "text/plain": [
       "4"
      ]
     },
     "execution_count": 2,
     "metadata": {},
     "output_type": "execute_result"
    }
   ],
   "source": [
    "iteration_to_strange_counter(6)"
   ]
  },
  {
   "cell_type": "markdown",
   "metadata": {},
   "source": [
    "# Improved Solution\n",
    "Skip most looping, calculate the exact countdown loop by using sum 3 + 6 + 12 + 24 + ..."
   ]
  },
  {
   "cell_type": "code",
   "execution_count": 3,
   "metadata": {},
   "outputs": [],
   "source": [
    "import math\n",
    "\n",
    "# Assume cycle 0 = 3,2,1                       starts from 3 * 2^0\n",
    "#        cycle 1 = 6,5,4,3,2,1                 starts from 3 * 2^1\n",
    "#        cycle 2 = 12,11,10,9,8,7,6,5,4,3,2,1  starts from 3 * 2^2\n",
    "# ...\n",
    "\n",
    "def get_strange_counter(n):\n",
    "    def get_cycle(n):\n",
    "        return math.ceil(math.log(n/3 + 1, 2))\n",
    "    \n",
    "    cycle = get_cycle(n)\n",
    "    count_before_cycle = 3 * (2 ** (cycle - 1) - 1)\n",
    "    cycle_start = 3 * 2 ** (cycle - 1)\n",
    "    \n",
    "    distance = n - count_before_cycle\n",
    "    return cycle_start - distance + 1"
   ]
  },
  {
   "cell_type": "code",
   "execution_count": 4,
   "metadata": {},
   "outputs": [
    {
     "name": "stdout",
     "output_type": "stream",
     "text": [
      "1 3\n",
      "2 2\n",
      "3 1\n",
      "4 6\n",
      "5 5\n",
      "6 4\n",
      "7 3\n",
      "8 2\n",
      "9 1\n",
      "10 12\n",
      "11 11\n",
      "12 10\n",
      "13 9\n",
      "14 8\n",
      "15 7\n",
      "16 6\n",
      "17 5\n",
      "18 4\n",
      "19 3\n"
     ]
    }
   ],
   "source": [
    "for n in range(1,20):\n",
    "    print(n, get_strange_counter(n))"
   ]
  },
  {
   "cell_type": "code",
   "execution_count": null,
   "metadata": {},
   "outputs": [],
   "source": []
  },
  {
   "cell_type": "code",
   "execution_count": null,
   "metadata": {},
   "outputs": [],
   "source": []
  }
 ],
 "metadata": {
  "kernelspec": {
   "display_name": "Python 3",
   "language": "python",
   "name": "python3"
  },
  "language_info": {
   "codemirror_mode": {
    "name": "ipython",
    "version": 3
   },
   "file_extension": ".py",
   "mimetype": "text/x-python",
   "name": "python",
   "nbconvert_exporter": "python",
   "pygments_lexer": "ipython3",
   "version": "3.6.4"
  }
 },
 "nbformat": 4,
 "nbformat_minor": 2
}
