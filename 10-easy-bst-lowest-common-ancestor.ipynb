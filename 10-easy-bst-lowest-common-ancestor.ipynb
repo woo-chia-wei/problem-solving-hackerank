{
 "cells": [
  {
   "cell_type": "code",
   "execution_count": 1,
   "metadata": {},
   "outputs": [],
   "source": [
    "class Node:\n",
    "    def __init__(self, info): \n",
    "        self.info = info  \n",
    "        self.left = None  \n",
    "        self.right = None \n",
    "        self.level = None \n",
    "\n",
    "    def __str__(self):\n",
    "        return str(self.info) \n",
    "\n",
    "class BinarySearchTree:\n",
    "    def __init__(self): \n",
    "        self.root = None\n",
    "\n",
    "    def create(self, val):  \n",
    "        if self.root == None:\n",
    "            self.root = Node(val)\n",
    "        else:\n",
    "            current = self.root\n",
    "         \n",
    "            while True:\n",
    "                if val < current.info:\n",
    "                    if current.left:\n",
    "                        current = current.left\n",
    "                    else:\n",
    "                        current.left = Node(val)\n",
    "                        break\n",
    "                elif val > current.info:\n",
    "                    if current.right:\n",
    "                        current = current.right\n",
    "                    else:\n",
    "                        current.right = Node(val)\n",
    "                        break\n",
    "                else:\n",
    "                    break\n",
    "\n",
    "# Enter your code here. Read input from STDIN. Print output to STDOUT\n",
    "'''\n",
    "class Node:\n",
    "      def __init__(self,info): \n",
    "          self.info = info  \n",
    "          self.left = None  \n",
    "          self.right = None \n",
    "           \n",
    "\n",
    "       // this is a node of the tree , which contains info as data, left , right\n",
    "'''\n",
    "\n",
    "def lca(root, v1, v2):\n",
    "\n",
    "    if root.info == v1:\n",
    "        return root\n",
    "\n",
    "    elif root.info == v2:\n",
    "        return root\n",
    "        \n",
    "    items = []\n",
    "    if root.left:\n",
    "        items.append(lca(root.left, v1, v2))\n",
    "    if root.right:\n",
    "        items.append(lca(root.right, v1, v2))\n",
    "\n",
    "    if len(items) == 0:\n",
    "        return Node(-1)\n",
    "\n",
    "    elif len(items) == 1:\n",
    "        return items[0]\n",
    "\n",
    "    elif len(items) == 2:\n",
    "        items_info = [item.info for item in items]\n",
    "        if v1 in items_info and v2 in items_info:\n",
    "            return root\n",
    "        else: \n",
    "            # Node(-1) is in one of them\n",
    "            a, b = items\n",
    "            return b if a.info == -1 else a"
   ]
  },
  {
   "cell_type": "code",
   "execution_count": 2,
   "metadata": {},
   "outputs": [
    {
     "name": "stdout",
     "output_type": "stream",
     "text": [
      "4\n"
     ]
    }
   ],
   "source": [
    "tree = BinarySearchTree()\n",
    "\n",
    "for i in [4, 2, 3, 1, 7, 6]:\n",
    "    tree.create(i)\n",
    "\n",
    "ans = lca(tree.root, 1, 7)\n",
    "print (ans.info)"
   ]
  },
  {
   "cell_type": "code",
   "execution_count": null,
   "metadata": {},
   "outputs": [],
   "source": []
  },
  {
   "cell_type": "code",
   "execution_count": null,
   "metadata": {},
   "outputs": [],
   "source": []
  }
 ],
 "metadata": {
  "kernelspec": {
   "display_name": "Python 3",
   "language": "python",
   "name": "python3"
  },
  "language_info": {
   "codemirror_mode": {
    "name": "ipython",
    "version": 3
   },
   "file_extension": ".py",
   "mimetype": "text/x-python",
   "name": "python",
   "nbconvert_exporter": "python",
   "pygments_lexer": "ipython3",
   "version": "3.6.4"
  }
 },
 "nbformat": 4,
 "nbformat_minor": 2
}
