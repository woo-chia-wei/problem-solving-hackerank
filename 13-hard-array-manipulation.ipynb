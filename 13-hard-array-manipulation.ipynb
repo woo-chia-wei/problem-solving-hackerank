{
 "cells": [
  {
   "cell_type": "markdown",
   "metadata": {},
   "source": [
    "# Solution inspired by Discussion Page"
   ]
  },
  {
   "cell_type": "code",
   "execution_count": 2,
   "metadata": {},
   "outputs": [],
   "source": [
    "def arrayManipulation(n, queries):\n",
    "    # Think in the direction from first to last number incrementally\n",
    "    # For example n = 5, queries = (2,4,6)\n",
    "    # The array has value (0, 6, ,6 , 6, 0)\n",
    "    # Reversed accumulation, think in change of value\n",
    "    # (0, 6, 0, 0, -6)\n",
    "    \n",
    "    changes = [0] * n\n",
    "    for a, b, k in queries:\n",
    "        # real index is a-1, b-1\n",
    "        changes[a - 1] += k\n",
    "        if b <= n-1:\n",
    "            changes[b] -= k\n",
    "    \n",
    "    max_ = 0\n",
    "    number = 0\n",
    "    \n",
    "    for i in range(n):\n",
    "        number += changes[i]\n",
    "        if max_ < number:\n",
    "            max_ = number\n",
    "    \n",
    "    return max_    "
   ]
  },
  {
   "cell_type": "code",
   "execution_count": 3,
   "metadata": {},
   "outputs": [
    {
     "data": {
      "text/plain": [
       "31"
      ]
     },
     "execution_count": 3,
     "metadata": {},
     "output_type": "execute_result"
    }
   ],
   "source": [
    "n = 10\n",
    "queries =['2 6 8',\n",
    "        '3 5 7',\n",
    "        '1 8 1',\n",
    "        '5 9 15']\n",
    "\n",
    "queries = list(map(lambda x: list(map(int, x.split())), queries))\n",
    "\n",
    "arrayManipulation(n, queries)"
   ]
  },
  {
   "cell_type": "markdown",
   "metadata": {},
   "source": [
    "# Original Solution"
   ]
  },
  {
   "cell_type": "code",
   "execution_count": 4,
   "metadata": {},
   "outputs": [],
   "source": [
    "# def arrayManipulation(n, queries):\n",
    "#     max_result = 0\n",
    "#     for i in range(1, n+1):\n",
    "#         sum_ = sum([k for a, b, k in queries if a <= i <=b])\n",
    "#         if max_result < sum_:\n",
    "#             max_result = sum_\n",
    "            \n",
    "#     print(sum_)\n",
    "#     return max_result"
   ]
  },
  {
   "cell_type": "code",
   "execution_count": 5,
   "metadata": {},
   "outputs": [],
   "source": [
    "def arrayManipulation(n, queries):\n",
    "    cutting_points = set([1, n])\n",
    "    for a, b, k in queries:\n",
    "        cutting_points.add(a)\n",
    "        cutting_points.add(b + 1)\n",
    "\n",
    "    cutting_points = sorted(cutting_points)\n",
    "\n",
    "    num_intervals = len(cutting_points) - 1\n",
    "    calculation = [0] * num_intervals\n",
    "\n",
    "    cutting_point_to_index = dict(zip(cutting_points, range(len(cutting_points))))\n",
    "\n",
    "    for a, b, k in queries:\n",
    "        i = cutting_point_to_index[a]\n",
    "        j = cutting_point_to_index[b + 1]\n",
    "\n",
    "        for p in range(i, j):\n",
    "            calculation[p] += k \n",
    "        \n",
    "    return max(calculation)"
   ]
  },
  {
   "cell_type": "code",
   "execution_count": 6,
   "metadata": {},
   "outputs": [
    {
     "data": {
      "text/plain": [
       "31"
      ]
     },
     "execution_count": 6,
     "metadata": {},
     "output_type": "execute_result"
    }
   ],
   "source": [
    "n = 10\n",
    "queries =['2 6 8',\n",
    "        '3 5 7',\n",
    "        '1 8 1',\n",
    "        '5 9 15']\n",
    "\n",
    "queries = list(map(lambda x: list(map(int, x.split())), queries))\n",
    "\n",
    "arrayManipulation(n, queries)"
   ]
  },
  {
   "cell_type": "code",
   "execution_count": null,
   "metadata": {},
   "outputs": [],
   "source": []
  },
  {
   "cell_type": "code",
   "execution_count": null,
   "metadata": {},
   "outputs": [],
   "source": []
  }
 ],
 "metadata": {
  "kernelspec": {
   "display_name": "Python 3",
   "language": "python",
   "name": "python3"
  },
  "language_info": {
   "codemirror_mode": {
    "name": "ipython",
    "version": 3
   },
   "file_extension": ".py",
   "mimetype": "text/x-python",
   "name": "python",
   "nbconvert_exporter": "python",
   "pygments_lexer": "ipython3",
   "version": "3.6.4"
  }
 },
 "nbformat": 4,
 "nbformat_minor": 2
}
